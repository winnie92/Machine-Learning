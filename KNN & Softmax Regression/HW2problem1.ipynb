{
 "cells": [
  {
   "cell_type": "code",
   "execution_count": 8,
   "metadata": {
    "collapsed": false
   },
   "outputs": [],
   "source": [
    "import math\n",
    "import numpy as np\n",
    "from collections import Counter\n",
    "#-------------------------------------------------------------------------\n",
    "'''\n",
    "    Problem 1: k nearest neighbor \n",
    "    In this problem, you will implement a classification method using k nearest neighbors. \n",
    "    The main goal of this problem is to get familiar with the basic settings of classification problems. \n",
    "    KNN is a simple method for classification problems.\n",
    "    You could test the correctness of your code by typing `nosetests test1.py` in the terminal.\n",
    "'''\n",
    "\n",
    "#--------------------------\n",
    "def compute_distance(Xtrain, Xtest):\n",
    "    '''\n",
    "        compute the Euclidean distance between instances in a test set and a training set \n",
    "        Input:\n",
    "            Xtrain: the feature matrix of the training dataset, a float python matrix of shape (n_train by p). Here n_train is the number of data instance in the training set, p is the number of features/dimensions.\n",
    "            Xtest: the feature matrix of the test dataset, a float python matrix of shape (n_test by p). Here n_test is the number of data instance in the test set, p is the number of features/dimensions.\n",
    "        Output:\n",
    "            D: the distance between instances in Xtest and Xtrain, a float python matrix of shape (ntest, ntrain), the (i,j)-th element of D represents the Euclidean distance between the i-th instance in Xtest and j-th instance in Xtrain.\n",
    "    '''\n",
    "    #########################################\n",
    "    ## INSERT YOUR CODE HERE\n",
    "    XtrainT = Xtrain.transpose()\n",
    "    # vecProd = Xtest * XtrainT\n",
    "    vecProd = np.dot(Xtest,XtrainT)\n",
    "    # print(vecProd)\n",
    "    SqXtest =  Xtest**2\n",
    "    # print(SqXtest)\n",
    "    sumSqXtest = np.matrix(np.sum(SqXtest, axis=1))\n",
    "    sumSqXtestEx = np.tile(sumSqXtest.transpose(), (1, vecProd.shape[1]))\n",
    "    # print(sumSqXtestEx)\n",
    "\n",
    "    SqXtrain = Xtrain**2\n",
    "    sumSqXtrain = np.sum(SqXtrain, axis=1)\n",
    "    sumSqXtrainEx = np.tile(sumSqXtrain, (vecProd.shape[0], 1))    \n",
    "    SqED = sumSqXtrainEx + sumSqXtestEx - 2*vecProd\n",
    "    SqED[SqED<0]=0.0   \n",
    "    ED = np.sqrt(SqED)\n",
    "    D = np.asarray(ED)\n",
    "    #########################################\n",
    "    return D\n",
    "\n",
    "\n"
   ]
  },
  {
   "cell_type": "code",
   "execution_count": 104,
   "metadata": {
    "collapsed": true
   },
   "outputs": [],
   "source": [
    "#--------------------------\n",
    "def k_nearest_neighbor(Xtrain, Ytrain, Xtest, K = 3):\n",
    "    '''\n",
    "        compute the labels of test data using the K nearest neighbor classifier.\n",
    "        Input:\n",
    "            Xtrain: the feature matrix of the training dataset, a float numpy matrix of shape (n_train by p). Here n_train is the number of data instance in the training set, p is the number of features/dimensions.\n",
    "            Ytrain: the label vector of the training dataset, an integer python list of length n_train. Each element in the list represents the label of the training instance. The values can be 0, ..., or num_class-1. num_class is the number of classes in the dataset.\n",
    "            Xtest: the feature matrix of the test dataset, a float python matrix of shape (n_test by p). Here n_test is the number of data instance in the test set, p is the number of features/dimensions.\n",
    "            K: the number of neighbors to consider for classification.\n",
    "        Output:\n",
    "            Ytest: the predicted labels of test data, an integer numpy vector of length ntest.\n",
    "        Note: you cannot use any existing package for KNN classifier.\n",
    "    '''\n",
    "    #########################################\n",
    "    ## INSERT YOUR CODE HERE\n",
    "    D = compute_distance(Xtrain, Xtest)\n",
    "    index=list(range(len(Ytrain)))\n",
    "    Ytest=[]\n",
    "    for e in D:\n",
    "        z = zip(index,e)\n",
    "        z = sorted(z,key=lambda x:x[1])\n",
    "        kid = map(lambda x:x[0], z)[0:K]\n",
    "        tmp=[]\n",
    "        for i in kid:\n",
    "            tmp.append(Ytrain[i])\n",
    "        print \"e= \",e,\"tmp= \",tmp\n",
    "        cnt = Counter(tmp)\n",
    "        print \"cnt= \",cnt\n",
    "        mode = cnt.get(max(cnt.values()))\n",
    "        if mode == None:\n",
    "            mode = tmp[0]\n",
    "        print \"mode= \",mode\n",
    "        Ytest.append(mode)\n",
    "    Ytest = np.asarray(Ytest)\n",
    "\n",
    "    #########################################\n",
    "    return Ytest \n",
    "\n"
   ]
  }
 ],
 "metadata": {
  "kernelspec": {
   "display_name": "Python 2",
   "language": "python",
   "name": "python2"
  },
  "language_info": {
   "codemirror_mode": {
    "name": "ipython",
    "version": 2
   },
   "file_extension": ".py",
   "mimetype": "text/x-python",
   "name": "python",
   "nbconvert_exporter": "python",
   "pygments_lexer": "ipython2",
   "version": "2.7.14"
  }
 },
 "nbformat": 4,
 "nbformat_minor": 2
}
