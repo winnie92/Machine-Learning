{
 "cells": [
  {
   "cell_type": "code",
   "execution_count": 1,
   "metadata": {
    "collapsed": true
   },
   "outputs": [],
   "source": [
    "import math\n",
    "import numpy as np\n",
    "#-----------------------------------------------------------------------\n",
    "# You could re-use your code in Problem 3.\n",
    "import problem3 as sr # sr = softmax regression "
   ]
  },
  {
   "cell_type": "code",
   "execution_count": 6,
   "metadata": {
    "collapsed": true
   },
   "outputs": [],
   "source": [
    "def compute_gradients(dL_da2, da2_dz2, dz2_dW2, dz2_db2, dz2_da1, da1_dz1, dz1_dW1, dz1_db1):\n",
    "    '''\n",
    "       Given the local gradients, compute the gradient of the loss function L w.r.t. model parameters: the weights W1, W2 and biases b1 and b2.\n",
    "        Input: see details in the above functions.\n",
    "        Output:\n",
    "            dL_dW2: the gradient of the loss function L w.r.t. the weight matrix W2\n",
    "            dL_db2: the gradient of the loss function L w.r.t. the biases b2\n",
    "            dL_dW1: the gradient of the loss function L w.r.t. the weight matrix W1 \n",
    "            dL_db1: the gradient of the loss function L w.r.t. the biases b1\n",
    "        Hint: you could re-use the functions in problem2, such as sr.compute_dL_dz(...) \n",
    "    '''\n",
    "    \n",
    "    #########################################\n",
    "    ## INSERT YOUR CODE HERE\n",
    "\n",
    "    # the 2nd layer \n",
    "    dL_dW2 = dz2_dW2*da2_dz2*np.array(dL_da2)\n",
    "    dL_db2 = dL_da2*da2_dz2*dz2_db2\n",
    "\n",
    "    # the 1st layer \n",
    "    dL_dW1 =  dz2_da1*da1_dz1*dz1_dW1\n",
    "    dL_db1 = dz2_da1*da1_dz1*dz1_db1\n",
    "\n",
    "    #########################################\n",
    "\n",
    "    return dL_dW2, dL_db2, dL_dW1, dL_db1"
   ]
  },
  {
   "cell_type": "code",
   "execution_count": 7,
   "metadata": {
    "collapsed": false
   },
   "outputs": [
    {
     "ename": "NameError",
     "evalue": "global name 'forward' is not defined",
     "output_type": "error",
     "traceback": [
      "\u001b[1;31m---------------------------------------------------------------------------\u001b[0m",
      "\u001b[1;31mNameError\u001b[0m                                 Traceback (most recent call last)",
      "\u001b[1;32m<ipython-input-7-aed494f4fa62>\u001b[0m in \u001b[0;36m<module>\u001b[1;34m()\u001b[0m\n\u001b[0;32m     23\u001b[0m         \u001b[1;32mprint\u001b[0m \u001b[0mdL_dW1_true\u001b[0m\u001b[1;33m\u001b[0m\u001b[0m\n\u001b[0;32m     24\u001b[0m         \u001b[1;32massert\u001b[0m \u001b[0mnp\u001b[0m\u001b[1;33m.\u001b[0m\u001b[0mallclose\u001b[0m\u001b[1;33m(\u001b[0m\u001b[0mdL_dW1\u001b[0m\u001b[1;33m,\u001b[0m \u001b[0mdL_dW1_true\u001b[0m\u001b[1;33m,\u001b[0m \u001b[0matol\u001b[0m\u001b[1;33m=\u001b[0m\u001b[1;36m1e-4\u001b[0m\u001b[1;33m)\u001b[0m\u001b[1;33m\u001b[0m\u001b[0m\n\u001b[1;32m---> 25\u001b[1;33m \u001b[0mtest_check_compute_gradients\u001b[0m\u001b[1;33m(\u001b[0m\u001b[1;33m)\u001b[0m\u001b[1;33m\u001b[0m\u001b[0m\n\u001b[0m",
      "\u001b[1;32m<ipython-input-7-aed494f4fa62>\u001b[0m in \u001b[0;36mtest_check_compute_gradients\u001b[1;34m()\u001b[0m\n\u001b[0;32m     11\u001b[0m         \u001b[0mW2\u001b[0m \u001b[1;33m=\u001b[0m \u001b[0mnp\u001b[0m\u001b[1;33m.\u001b[0m\u001b[0masmatrix\u001b[0m\u001b[1;33m(\u001b[0m\u001b[1;36m2\u001b[0m\u001b[1;33m*\u001b[0m\u001b[0mnp\u001b[0m\u001b[1;33m.\u001b[0m\u001b[0mrandom\u001b[0m\u001b[1;33m.\u001b[0m\u001b[0mrandom\u001b[0m\u001b[1;33m(\u001b[0m\u001b[1;33m(\u001b[0m\u001b[0mc\u001b[0m\u001b[1;33m,\u001b[0m\u001b[0mh\u001b[0m\u001b[1;33m)\u001b[0m\u001b[1;33m)\u001b[0m\u001b[1;33m-\u001b[0m\u001b[1;36m1\u001b[0m\u001b[1;33m)\u001b[0m\u001b[1;33m\u001b[0m\u001b[0m\n\u001b[0;32m     12\u001b[0m         \u001b[0mb2\u001b[0m \u001b[1;33m=\u001b[0m \u001b[0mnp\u001b[0m\u001b[1;33m.\u001b[0m\u001b[0masmatrix\u001b[0m\u001b[1;33m(\u001b[0m\u001b[0mnp\u001b[0m\u001b[1;33m.\u001b[0m\u001b[0mrandom\u001b[0m\u001b[1;33m.\u001b[0m\u001b[0mrandom\u001b[0m\u001b[1;33m(\u001b[0m\u001b[1;33m(\u001b[0m\u001b[0mc\u001b[0m\u001b[1;33m,\u001b[0m\u001b[1;36m1\u001b[0m\u001b[1;33m)\u001b[0m\u001b[1;33m)\u001b[0m\u001b[1;33m)\u001b[0m\u001b[1;33m\u001b[0m\u001b[0m\n\u001b[1;32m---> 13\u001b[1;33m         \u001b[0mz1\u001b[0m\u001b[1;33m,\u001b[0m \u001b[0ma1\u001b[0m\u001b[1;33m,\u001b[0m \u001b[0mz2\u001b[0m\u001b[1;33m,\u001b[0m \u001b[0ma2\u001b[0m \u001b[1;33m=\u001b[0m \u001b[0mforward\u001b[0m\u001b[1;33m(\u001b[0m\u001b[0mx\u001b[0m\u001b[1;33m,\u001b[0m \u001b[0mW1\u001b[0m\u001b[1;33m,\u001b[0m \u001b[0mb1\u001b[0m\u001b[1;33m,\u001b[0m \u001b[0mW2\u001b[0m\u001b[1;33m,\u001b[0m \u001b[0mb2\u001b[0m\u001b[1;33m)\u001b[0m\u001b[1;33m\u001b[0m\u001b[0m\n\u001b[0m\u001b[0;32m     14\u001b[0m         \u001b[0mdL_da2\u001b[0m\u001b[1;33m,\u001b[0m \u001b[0mda2_dz2\u001b[0m\u001b[1;33m,\u001b[0m \u001b[0mdz2_dW2\u001b[0m\u001b[1;33m,\u001b[0m \u001b[0mdz2_db2\u001b[0m\u001b[1;33m,\u001b[0m \u001b[0mdz2_da1\u001b[0m\u001b[1;33m,\u001b[0m \u001b[0mda1_dz1\u001b[0m\u001b[1;33m,\u001b[0m \u001b[0mdz1_dW1\u001b[0m\u001b[1;33m,\u001b[0m \u001b[0mdz1_db1\u001b[0m\u001b[1;33m=\u001b[0m \u001b[0mbackward\u001b[0m\u001b[1;33m(\u001b[0m\u001b[0mx\u001b[0m\u001b[1;33m,\u001b[0m\u001b[0my\u001b[0m\u001b[1;33m,\u001b[0m\u001b[0ma1\u001b[0m\u001b[1;33m,\u001b[0m\u001b[0ma2\u001b[0m\u001b[1;33m,\u001b[0m \u001b[0mW2\u001b[0m\u001b[1;33m)\u001b[0m\u001b[1;33m\u001b[0m\u001b[0m\n\u001b[0;32m     15\u001b[0m \u001b[1;33m\u001b[0m\u001b[0m\n",
      "\u001b[1;31mNameError\u001b[0m: global name 'forward' is not defined"
     ]
    }
   ],
   "source": [
    "def test_check_compute_gradients():\n",
    "    '''(2 point) check gradients'''\n",
    "    for _ in xrange(20):\n",
    "        p = np.random.randint(2,10) # number of features\n",
    "        c = np.random.randint(2,10) # number of classes\n",
    "        h = np.random.randint(2,10) # number of neurons in the 1st layer \n",
    "        x = np.asmatrix(10*np.random.random((p,1))-5)\n",
    "        y = np.random.randint(c) \n",
    "        W1 = np.asmatrix(2*np.random.random((h,p))-1)\n",
    "        b1 = np.asmatrix(np.random.random((h,1)))\n",
    "        W2 = np.asmatrix(2*np.random.random((c,h))-1)\n",
    "        b2 = np.asmatrix(np.random.random((c,1)))\n",
    "        z1, a1, z2, a2 = forward(x, W1, b1, W2, b2)\n",
    "        dL_da2, da2_dz2, dz2_dW2, dz2_db2, dz2_da1, da1_dz1, dz1_dW1, dz1_db1= backward(x,y,a1,a2, W2) \n",
    "\n",
    "        # analytical gradients\n",
    "        dL_dW2, dL_db2, dL_dW1, dL_db1 = compute_gradients(dL_da2, da2_dz2, dz2_dW2, dz2_db2, dz2_da1, da1_dz1, dz1_dW1, dz1_db1)\n",
    "        # numerical gradients\n",
    "        dL_dW2_true = check_dL_dW2(x,y, W1,b1,W2,b2)\n",
    "        assert np.allclose(dL_dW2, dL_dW2_true, atol=1e-4) \n",
    "\n",
    "        dL_dW1_true = check_dL_dW1(x,y, W1,b1,W2,b2)\n",
    "        print dL_dW1_true\n",
    "        assert np.allclose(dL_dW1, dL_dW1_true, atol=1e-4) \n",
    "test_check_compute_gradients()"
   ]
  }
 ],
 "metadata": {
  "kernelspec": {
   "display_name": "Python 2",
   "language": "python",
   "name": "python2"
  },
  "language_info": {
   "codemirror_mode": {
    "name": "ipython",
    "version": 2
   },
   "file_extension": ".py",
   "mimetype": "text/x-python",
   "name": "python",
   "nbconvert_exporter": "python",
   "pygments_lexer": "ipython2",
   "version": "2.7.14"
  }
 },
 "nbformat": 4,
 "nbformat_minor": 2
}
